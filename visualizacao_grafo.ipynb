# visualizacao_grafo.ipynb
import pandas as pd
from main import Grafo, ler_grafo_de_arquivo, exportar_estatisticas_para_csv
import math

# Caminho do arquivo .dat
caminho = input("Digite o nome do arquivo .dat: ").strip()
grafo = ler_grafo_de_arquivo(caminho)

# Imprimir estatísticas básicas em tabela
estatisticas = {
    "Total de vértices": grafo.total_vertices(),
    "Total de arestas": grafo.total_arestas(),
    "Total de arcos": grafo.total_arcos(),
    "Total de vértices requeridos": grafo.total_vertices_requeridos(),
    "Total de arestas requeridas": grafo.total_arestas_requeridas(),
    "Total de arcos requeridos": grafo.total_arcos_requeridos(),
    "Densidade": grafo.densidade(),
    "Componentes conectados": grafo.componentes_conectados(),
    "Grau mínimo": grafo.grau_minimo(),
    "Grau máximo": grafo.grau_maximo(),
    "Caminho médio": grafo.caminho_medio(),
    "Diâmetro": grafo.diametro()
}

print("\n--- Estatísticas do Grafo ---")
df_estatisticas = pd.DataFrame(estatisticas.items(), columns=["Estatística", "Valor"])
display(df_estatisticas)

# Imprimir matriz de adjacência com pesos
print("\n\n--- Matriz de Adjacência com Pesos ---")
matriz_pesos = grafo.matriz_adjacencia_pesos()
max_vertice = max(grafo.vertices)
df_pesos = pd.DataFrame(matriz_pesos[:max_vertice+1], columns=range(max_vertice+1))
df_pesos.replace(math.inf, '∞', inplace=True)
display(df_pesos)

# Imprimir matriz de custo mínimo (Floyd-Warshall)
print("\n--- Matriz de Floyd-Warshall(matriz de custo mínimo) ---")
matriz_fw = grafo.floyd_warshall()
df_fw = pd.DataFrame(matriz_fw[:max_vertice+1], columns=range(max_vertice+1))
df_fw.replace(math.inf, '∞', inplace=True)
display(df_fw)

# Imprimir intermediação dos vértices
print("\n--- Intermediação dos Vértices ---")
intermediacoes = grafo.intermediacao()
df_inter = pd.DataFrame(sorted(intermediacoes.items()), columns=["Vértice", "Intermediação"])
display(df_inter)

# Exportar estatísticas
exportar_estatisticas_para_csv(grafo, caminho+".csv")
