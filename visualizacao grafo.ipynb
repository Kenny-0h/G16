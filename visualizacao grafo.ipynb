# visualizacao_grafo.ipynb
#from main import Grafo, ler_grafo_de_arquivo, exportar_estatisticas_para_csv
import time
import math
import os


caminho_entrada = input("Digite o nome do arquivo .dat: ").strip()
inicio = time.perf_counter()
caminho_entrada= os.path.join("entradas", caminho_entrada+".dat")
grafo = ler_grafo_de_arquivo(caminho_entrada)
import pandas as pd
#Exibir estatísticas básicas em tabela
estatisticas = {
    "Total de vértices": grafo.total_vertices(),
    "Total de arestas": grafo.total_arestas(),
    "Total de arcos": grafo.total_arcos(),
    "Total de vértices requeridos": grafo.total_vertices_requeridos(),
    "Total de arestas requeridas": grafo.total_arestas_requeridas(),
    "Total de arcos requeridos": grafo.total_arcos_requeridos(),
    "Densidade": grafo.densidade(),
    "Componentes conectados": grafo.componentes_conectados(),
    "Grau mínimo": grafo.grau_minimo(),
    "Grau máximo": grafo.grau_maximo(),
    "Caminho médio": grafo.caminho_medio(),
    "Diâmetro": grafo.diametro()
}

print("\n--- Estatísticas do Grafo ---")
df_estatisticas = pd.DataFrame(estatisticas.items(), columns=["Estatística", "Valor"])
display(df_estatisticas)

# Exibir matriz de adjacência com pesos
print("\n--- Matriz de Adjacência com Pesos ---")
matriz_pesos = grafo.matriz_adjacencia_pesos()
max_vertice = max(grafo.vertices)
df_pesos = pd.DataFrame(matriz_pesos[:max_vertice+1], columns=range(max_vertice+1))
df_pesos.replace(math.inf, '∞', inplace=True)
display(df_pesos)

# Exibir matriz de custo mínimo (Floyd-Warshall)
print("\n--- Matriz de Custo Mínimo (Floyd-Warshall) ---")
matriz_fw = grafo.floyd_warshall()
df_fw = pd.DataFrame(matriz_fw[:max_vertice+1], columns=range(max_vertice+1))
df_fw.replace(math.inf, '∞', inplace=True)
display(df_fw)

# Exibir intermediação dos vértices
print("\n--- Intermediação dos Vértices ---")
intermediacoes = grafo.intermediacao()
df_inter = pd.DataFrame(sorted(intermediacoes.items()), columns=["Vértice", "Intermediação"])
display(df_inter)

# Exportar estatísticas
exportar_estatisticas_para_csv(grafo, caminho_entrada+".csv")

# rotas
rotas = grafo.construir_rotas()
pontoDeRotas= time.perf_counter()

#Diretório e arquivo
diretorio_saida= "sol"
os.makedirs(diretorio_saida, exist_ok=True)

nome_base= os.path.basename(caminho_entrada)
nome_sem_extensao= os.path.splitext(nome_base)[0]
caminho_saida= os.path.join(diretorio_saida,f"sol-{nome_sem_extensao}.dat")
#Tempos Clocks
tempoMS= pontoDeRotas-inicio
fimPrograma= time.perf_counter()
tempoFP= fimPrograma-inicio
with open(caminho_saida, "w") as arquivo_saida:
  print(f"{sum(r['custo_total'] for r in rotas)}", file=arquivo_saida)
  print(f"{len(rotas)}", file=arquivo_saida)
  print(f"{int(tempoFP* 3.0* 1e9)}", file=arquivo_saida)
  print(f"{int(tempoMS* 3.0* 1e9)}", file=arquivo_saida)
  for i, r in enumerate(rotas):
      linha = f" 0 1 {i+1} {r['demanda_total']} {r['custo_total']}  {len(r['servicos_atendidos'])}"
      if r["rota"][0] == grafo.no_deposito:
          linha += f" (D 0,{grafo.no_deposito},{grafo.no_deposito})"
      for s in r["servicos_atendidos"]:
          linha += f" (S {s['id_servico']},{s['de']},{s['para']})"
      if r["rota"][-1] == grafo.no_deposito:
          linha += f" (D 0,{grafo.no_deposito},{grafo.no_deposito})"
      print(linha, file=arquivo_saida)

